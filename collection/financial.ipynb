{
 "cells": [
  {
   "cell_type": "markdown",
   "id": "8458d565",
   "metadata": {},
   "source": [
    "## 汇率（exchange ratio）"
   ]
  },
  {
   "cell_type": "markdown",
   "id": "514a26f7",
   "metadata": {},
   "source": [
    "- https://api.exchangerate-api.com/v4/latest/USD\n",
    "    - https://www.exchangerate-api.com/\n",
    "    - 锚定的是1美元（USD，US dollars）\n",
    "    - 小数位后两位精度；\n",
    "    - CNY：Chinese Yuan，\n",
    "        - Renminbi"
   ]
  },
  {
   "cell_type": "markdown",
   "id": "c4770611",
   "metadata": {},
   "source": [
    "- 0117，7.24507；\n",
    "- 0122，7.21；"
   ]
  }
 ],
 "metadata": {
  "kernelspec": {
   "display_name": "Python 3 (ipykernel)",
   "language": "python",
   "name": "python3"
  },
  "language_info": {
   "codemirror_mode": {
    "name": "ipython",
    "version": 3
   },
   "file_extension": ".py",
   "mimetype": "text/x-python",
   "name": "python",
   "nbconvert_exporter": "python",
   "pygments_lexer": "ipython3",
   "version": "3.10.13"
  },
  "toc": {
   "base_numbering": 1,
   "nav_menu": {},
   "number_sections": true,
   "sideBar": true,
   "skip_h1_title": false,
   "title_cell": "Table of Contents",
   "title_sidebar": "Contents",
   "toc_cell": false,
   "toc_position": {},
   "toc_section_display": true,
   "toc_window_display": false
  }
 },
 "nbformat": 4,
 "nbformat_minor": 5
}

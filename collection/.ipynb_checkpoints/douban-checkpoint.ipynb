{
 "cells": [
  {
   "cell_type": "markdown",
   "id": "fcc32e22",
   "metadata": {},
   "source": [
    "- 热门电视剧：https://movie.douban.com/j/search_subjects?type=tv&tag=热门&page_limit=50&page_start=0\n",
    "    - https://blog.csdn.net/weixin_43844838/article/details/107812440\n",
    "- 热门电影：https://movie.douban.com/j/search_subjects?type=movie&tag=热门&page_limit=50&page_start=0\n",
    "- 实时热门书影音\n",
    "    - https://m.douban.com/subject_collection/subject_real_time_hotest\n",
    "    - https://m.douban.com/rexxar/api/v2/subject_collection/subject_real_time_hotest/items?start=0&count=50&updated_at=&items_only=1&for_mobile=1"
   ]
  }
 ],
 "metadata": {
  "kernelspec": {
   "display_name": "Python 3 (ipykernel)",
   "language": "python",
   "name": "python3"
  },
  "language_info": {
   "codemirror_mode": {
    "name": "ipython",
    "version": 3
   },
   "file_extension": ".py",
   "mimetype": "text/x-python",
   "name": "python",
   "nbconvert_exporter": "python",
   "pygments_lexer": "ipython3",
   "version": "3.10.9"
  },
  "toc": {
   "base_numbering": 1,
   "nav_menu": {},
   "number_sections": true,
   "sideBar": true,
   "skip_h1_title": false,
   "title_cell": "Table of Contents",
   "title_sidebar": "Contents",
   "toc_cell": false,
   "toc_position": {},
   "toc_section_display": true,
   "toc_window_display": false
  }
 },
 "nbformat": 4,
 "nbformat_minor": 5
}

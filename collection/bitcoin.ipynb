{
 "cells": [
  {
   "cell_type": "markdown",
   "id": "cb92b966",
   "metadata": {},
   "source": [
    "- http://api.bitcoincharts.com/v1/weighted_prices.json"
   ]
  },
  {
   "cell_type": "code",
   "execution_count": 5,
   "id": "2d3b1ec4",
   "metadata": {
    "ExecuteTime": {
     "end_time": "2023-11-27T11:18:39.557465Z",
     "start_time": "2023-11-27T11:18:39.553071Z"
    }
   },
   "outputs": [],
   "source": [
    "import requests\n",
    "import json"
   ]
  },
  {
   "cell_type": "code",
   "execution_count": 3,
   "id": "3a5fefb3",
   "metadata": {
    "ExecuteTime": {
     "end_time": "2023-11-27T11:18:27.024515Z",
     "start_time": "2023-11-27T11:18:26.573756Z"
    }
   },
   "outputs": [],
   "source": [
    "resp = requests.get(url='http://api.bitcoincharts.com/v1/weighted_prices.json')"
   ]
  },
  {
   "cell_type": "code",
   "execution_count": 4,
   "id": "c564f2f1",
   "metadata": {
    "ExecuteTime": {
     "end_time": "2023-11-27T11:18:31.211180Z",
     "start_time": "2023-11-27T11:18:31.206966Z"
    }
   },
   "outputs": [
    {
     "data": {
      "text/plain": [
       "200"
      ]
     },
     "execution_count": 4,
     "metadata": {},
     "output_type": "execute_result"
    }
   ],
   "source": [
    "resp.status_code"
   ]
  },
  {
   "cell_type": "code",
   "execution_count": 7,
   "id": "fe423e83",
   "metadata": {
    "ExecuteTime": {
     "end_time": "2023-11-27T11:18:53.584456Z",
     "start_time": "2023-11-27T11:18:53.577803Z"
    }
   },
   "outputs": [
    {
     "data": {
      "text/plain": [
       "{'JPY': {'7d': '5579764.53', '30d': '5428976.57', '24h': '5597161.53'},\n",
       " 'USD': {'7d': '37233.92', '30d': '36291.81', '24h': '37387.63'},\n",
       " 'AUD': {'7d': '56772.42', '30d': '56019.90', '24h': '56893.12'},\n",
       " 'timestamp': 1701083882,\n",
       " 'EUR': {'7d': '34131.68', '30d': '33591.36', '24h': '34176.90'},\n",
       " 'CAD': {'7d': '50821.56', '30d': '49632.90', '24h': '50943.38'}}"
      ]
     },
     "execution_count": 7,
     "metadata": {},
     "output_type": "execute_result"
    }
   ],
   "source": [
    "json.loads(resp.text)"
   ]
  }
 ],
 "metadata": {
  "kernelspec": {
   "display_name": "Python 3 (ipykernel)",
   "language": "python",
   "name": "python3"
  },
  "language_info": {
   "codemirror_mode": {
    "name": "ipython",
    "version": 3
   },
   "file_extension": ".py",
   "mimetype": "text/x-python",
   "name": "python",
   "nbconvert_exporter": "python",
   "pygments_lexer": "ipython3",
   "version": "3.10.13"
  },
  "toc": {
   "base_numbering": 1,
   "nav_menu": {},
   "number_sections": true,
   "sideBar": true,
   "skip_h1_title": false,
   "title_cell": "Table of Contents",
   "title_sidebar": "Contents",
   "toc_cell": false,
   "toc_position": {},
   "toc_section_display": true,
   "toc_window_display": false
  }
 },
 "nbformat": 4,
 "nbformat_minor": 5
}

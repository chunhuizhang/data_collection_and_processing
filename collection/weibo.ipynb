{
 "cells": [
  {
   "cell_type": "markdown",
   "id": "d8504101",
   "metadata": {},
   "source": [
    "- https://github.com/chuanyangjin/Weibo-Wordcloud/blob/main/weibo_wordcloud.ipynb"
   ]
  },
  {
   "cell_type": "code",
   "execution_count": 1,
   "id": "49afc25b",
   "metadata": {
    "ExecuteTime": {
     "end_time": "2023-10-25T14:57:11.082181Z",
     "start_time": "2023-10-25T14:57:11.065553Z"
    }
   },
   "outputs": [],
   "source": [
    "# 基于 m.weibo.cn 抓取少量数据，无需登陆验证\n",
    "url_template = \"https://m.weibo.cn/api/container/getIndex?type=wb&queryVal={}&containerid=100103type=2%26q%3D{}&page={}\""
   ]
  },
  {
   "cell_type": "code",
   "execution_count": null,
   "id": "c4f30afc",
   "metadata": {},
   "outputs": [],
   "source": [
    "# https://m.weibo.cn/api/container/getIndex?type=wb&queryVal=调休&containerid=100103type=2%26q%3D调休&page=1"
   ]
  }
 ],
 "metadata": {
  "kernelspec": {
   "display_name": "Python 3 (ipykernel)",
   "language": "python",
   "name": "python3"
  },
  "language_info": {
   "codemirror_mode": {
    "name": "ipython",
    "version": 3
   },
   "file_extension": ".py",
   "mimetype": "text/x-python",
   "name": "python",
   "nbconvert_exporter": "python",
   "pygments_lexer": "ipython3",
   "version": "3.10.9"
  },
  "toc": {
   "base_numbering": 1,
   "nav_menu": {},
   "number_sections": true,
   "sideBar": true,
   "skip_h1_title": false,
   "title_cell": "Table of Contents",
   "title_sidebar": "Contents",
   "toc_cell": false,
   "toc_position": {},
   "toc_section_display": true,
   "toc_window_display": false
  }
 },
 "nbformat": 4,
 "nbformat_minor": 5
}

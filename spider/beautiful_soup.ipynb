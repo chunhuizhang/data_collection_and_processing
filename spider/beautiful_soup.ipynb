{
 "cells": [
  {
   "cell_type": "code",
   "execution_count": 2,
   "id": "7c4bbfa5-3a87-44df-b302-616f1306e6ad",
   "metadata": {
    "execution": {
     "iopub.execute_input": "2024-12-30T14:16:15.829293Z",
     "iopub.status.busy": "2024-12-30T14:16:15.828886Z",
     "iopub.status.idle": "2024-12-30T14:16:15.929315Z",
     "shell.execute_reply": "2024-12-30T14:16:15.927226Z",
     "shell.execute_reply.started": "2024-12-30T14:16:15.829270Z"
    }
   },
   "outputs": [],
   "source": [
    "import requests\n",
    "from bs4 import BeautifulSoup"
   ]
  },
  {
   "cell_type": "code",
   "execution_count": 3,
   "id": "516a7649-0aa9-4fee-8514-b67afdbc9309",
   "metadata": {
    "execution": {
     "iopub.execute_input": "2024-12-30T14:17:01.333633Z",
     "iopub.status.busy": "2024-12-30T14:17:01.333156Z",
     "iopub.status.idle": "2024-12-30T14:17:01.341641Z",
     "shell.execute_reply": "2024-12-30T14:17:01.339465Z",
     "shell.execute_reply.started": "2024-12-30T14:17:01.333597Z"
    }
   },
   "outputs": [],
   "source": [
    "url = 'https://www.jamieoliver.com/recipes/dinner/liver-bacon-onions/'"
   ]
  },
  {
   "cell_type": "code",
   "execution_count": 4,
   "id": "cd0c9473-6937-4d4c-8ae1-ae74b470ea25",
   "metadata": {
    "execution": {
     "iopub.execute_input": "2024-12-30T14:17:12.931039Z",
     "iopub.status.busy": "2024-12-30T14:17:12.930409Z",
     "iopub.status.idle": "2024-12-30T14:17:13.531977Z",
     "shell.execute_reply": "2024-12-30T14:17:13.529806Z",
     "shell.execute_reply.started": "2024-12-30T14:17:12.930993Z"
    }
   },
   "outputs": [],
   "source": [
    "response = requests.get(url)"
   ]
  },
  {
   "cell_type": "code",
   "execution_count": 5,
   "id": "4818fb60-c300-4275-be47-7e9e7060e51f",
   "metadata": {
    "execution": {
     "iopub.execute_input": "2024-12-30T14:17:17.572010Z",
     "iopub.status.busy": "2024-12-30T14:17:17.571737Z",
     "iopub.status.idle": "2024-12-30T14:17:17.583324Z",
     "shell.execute_reply": "2024-12-30T14:17:17.581232Z",
     "shell.execute_reply.started": "2024-12-30T14:17:17.571990Z"
    }
   },
   "outputs": [
    {
     "data": {
      "text/plain": [
       "<Response [200]>"
      ]
     },
     "execution_count": 5,
     "metadata": {},
     "output_type": "execute_result"
    }
   ],
   "source": [
    "response"
   ]
  },
  {
   "cell_type": "markdown",
   "id": "7cf65f14-5325-4c5a-ba0e-8d4400e950bc",
   "metadata": {},
   "source": [
    "- `soup.find(id='xx')`: Find the element with id\n",
    "- `soup.find_all(\"div\", {\"class\": \"stylelistrow\"})`"
   ]
  },
  {
   "cell_type": "code",
   "execution_count": 12,
   "id": "3b7b7d93-a438-4029-857b-79f39471c208",
   "metadata": {
    "execution": {
     "iopub.execute_input": "2024-12-30T14:30:52.659983Z",
     "iopub.status.busy": "2024-12-30T14:30:52.659562Z",
     "iopub.status.idle": "2024-12-30T14:30:52.857417Z",
     "shell.execute_reply": "2024-12-30T14:30:52.855668Z",
     "shell.execute_reply.started": "2024-12-30T14:30:52.659953Z"
    }
   },
   "outputs": [
    {
     "name": "stdout",
     "output_type": "stream",
     "text": [
      "<div class=\"ingredients-rich-text\" style=\"text-align:left;\"> <p class=\"type-body\">Â½ a red onion</p><p class=\"type-body\">2 sprigs of fresh sage</p><p class=\"type-body\">1 slice of sourdough bread (50g)</p><p class=\"type-body\">1 rasher of smoked higher-welfare streaky bacon</p><p class=\"type-body\">125g slice of higher-welfare calvesâ liver</p><p class=\"type-h5\"></p> </div>\n"
     ]
    }
   ],
   "source": [
    "soup = BeautifulSoup(response.text, 'html.parser')\n",
    "divs = soup.find_all('div', {'class': 'ingredients-rich-text'})\n",
    "if divs:\n",
    "    print(divs[0])"
   ]
  },
  {
   "cell_type": "code",
   "execution_count": null,
   "id": "54006e84-0928-4e4c-9642-003dfa010616",
   "metadata": {},
   "outputs": [],
   "source": []
  }
 ],
 "metadata": {
  "kernelspec": {
   "display_name": "Python 3 (ipykernel)",
   "language": "python",
   "name": "python3"
  },
  "language_info": {
   "codemirror_mode": {
    "name": "ipython",
    "version": 3
   },
   "file_extension": ".py",
   "mimetype": "text/x-python",
   "name": "python",
   "nbconvert_exporter": "python",
   "pygments_lexer": "ipython3",
   "version": "3.10.13"
  }
 },
 "nbformat": 4,
 "nbformat_minor": 5
}
